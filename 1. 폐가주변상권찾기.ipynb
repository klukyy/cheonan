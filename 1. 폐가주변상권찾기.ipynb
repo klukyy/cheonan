{
 "cells": [
  {
   "cell_type": "code",
   "execution_count": 3,
   "metadata": {},
   "outputs": [],
   "source": [
    "import pandas as pd\n",
    "from geopy.distance import great_circle"
   ]
  },
  {
   "cell_type": "markdown",
   "metadata": {},
   "source": [
    "### 1. 관광시설"
   ]
  },
  {
   "cell_type": "code",
   "execution_count": 4,
   "metadata": {},
   "outputs": [],
   "source": [
    "# 관광시설 불러오기\n",
    "df_tour = pd.read_excel('입지선정데이터\\충청남도 관광 서비스_위경도.xlsx',sheet_name = 1)"
   ]
  },
  {
   "cell_type": "code",
   "execution_count": 5,
   "metadata": {},
   "outputs": [
    {
     "data": {
      "text/html": [
       "<div>\n",
       "<style scoped>\n",
       "    .dataframe tbody tr th:only-of-type {\n",
       "        vertical-align: middle;\n",
       "    }\n",
       "\n",
       "    .dataframe tbody tr th {\n",
       "        vertical-align: top;\n",
       "    }\n",
       "\n",
       "    .dataframe thead th {\n",
       "        text-align: right;\n",
       "    }\n",
       "</style>\n",
       "<table border=\"1\" class=\"dataframe\">\n",
       "  <thead>\n",
       "    <tr style=\"text-align: right;\">\n",
       "      <th></th>\n",
       "      <th>개방서비스명</th>\n",
       "      <th>영업상태명</th>\n",
       "      <th>시</th>\n",
       "      <th>도로명전체주소</th>\n",
       "      <th>사업장명</th>\n",
       "      <th>Latitude</th>\n",
       "      <th>Longitude</th>\n",
       "      <th>Coordinates</th>\n",
       "    </tr>\n",
       "  </thead>\n",
       "  <tbody>\n",
       "    <tr>\n",
       "      <th>0</th>\n",
       "      <td>지방문화원</td>\n",
       "      <td>영업/정상</td>\n",
       "      <td>천안시</td>\n",
       "      <td>충청남도 천안시 서북구 성정8길 5</td>\n",
       "      <td>천안문화원</td>\n",
       "      <td>36.817976</td>\n",
       "      <td>127.141445</td>\n",
       "      <td>(36.8179764, 127.1414449)</td>\n",
       "    </tr>\n",
       "  </tbody>\n",
       "</table>\n",
       "</div>"
      ],
      "text/plain": [
       "  개방서비스명  영업상태명    시               도로명전체주소   사업장명   Latitude   Longitude  \\\n",
       "0  지방문화원  영업/정상  천안시  충청남도 천안시 서북구 성정8길 5   천안문화원  36.817976  127.141445   \n",
       "\n",
       "                 Coordinates  \n",
       "0  (36.8179764, 127.1414449)  "
      ]
     },
     "execution_count": 5,
     "metadata": {},
     "output_type": "execute_result"
    }
   ],
   "source": [
    "df_tour\n",
    "# 위경도 튜플로 저장\n",
    "df_tour['Coordinates']=list(zip(df_tour['Latitude'],df_tour['Longitude']))\n",
    "df_tour.head(1)"
   ]
  },
  {
   "cell_type": "code",
   "execution_count": 6,
   "metadata": {},
   "outputs": [],
   "source": [
    "# 2km 이내인지 확인하는 함수\n",
    "def is_within_2km(coord1, coord2):\n",
    "    if None in coord1 or None in coord2:  # 위경도 중 하나라도 None이면 False 반환\n",
    "        return False\n",
    "    distance = great_circle(coord1, coord2).kilometers\n",
    "    return distance <= 2"
   ]
  },
  {
   "cell_type": "code",
   "execution_count": 7,
   "metadata": {},
   "outputs": [
    {
     "name": "stdout",
     "output_type": "stream",
     "text": [
      "두정동 폐공사장 주변 2km 관광지 :  2\n"
     ]
    }
   ],
   "source": [
    "# 기준점 : 두정동 폐공사장\n",
    "reference_point = (36.8319614041446,127.13853973003)\n",
    "# 기준점과 각 주소 간의 거리 확인\n",
    "df_tour['Within 2km'] = df_tour['Coordinates'].apply(\n",
    "    lambda coord: \"Yes\" if is_within_2km(reference_point, coord) else \"No\")\n",
    "print('두정동 폐공사장 주변 2km 관광지 : ', df_tour[df_tour['Within 2km']=='Yes']['사업장명'].nunique())"
   ]
  },
  {
   "cell_type": "code",
   "execution_count": 8,
   "metadata": {},
   "outputs": [
    {
     "name": "stdout",
     "output_type": "stream",
     "text": [
      "충무로 폐공장 주변 2km 관광지 :  0\n"
     ]
    }
   ],
   "source": [
    "# 기준점 : 충무로 폐공장\n",
    "reference_point = (36.7963713271599,127.129356133734)\n",
    "# 기준점과 각 주소 간의 거리 확인\n",
    "df_tour['Within 2km'] = df_tour['Coordinates'].apply(\n",
    "    lambda coord: \"Yes\" if is_within_2km(reference_point, coord) else \"No\")\n",
    "print('충무로 폐공장 주변 2km 관광지 : ', df_tour[df_tour['Within 2km']=='Yes']['사업장명'].nunique())"
   ]
  },
  {
   "cell_type": "code",
   "execution_count": 9,
   "metadata": {},
   "outputs": [
    {
     "name": "stdout",
     "output_type": "stream",
     "text": [
      "삼룡동 폐건물 주변 2km 관광지 :  4\n"
     ]
    }
   ],
   "source": [
    "# 기준점 : 삼룡동 폐건물\n",
    "reference_point = (36.7901104846421,127.164385340393)\n",
    "# 기준점과 각 주소 간의 거리 확인\n",
    "df_tour['Within 2km'] = df_tour['Coordinates'].apply(\n",
    "    lambda coord: \"Yes\" if is_within_2km(reference_point, coord) else \"No\")\n",
    "print('삼룡동 폐건물 주변 2km 관광지 : ', df_tour[df_tour['Within 2km']=='Yes']['사업장명'].nunique())"
   ]
  },
  {
   "cell_type": "markdown",
   "metadata": {},
   "source": [
    "### 2. 오락시설"
   ]
  },
  {
   "cell_type": "code",
   "execution_count": 10,
   "metadata": {},
   "outputs": [],
   "source": [
    "# 오락서비스 불러오기\n",
    "df_enter = pd.read_excel('입지선정데이터\\충청남도 오락시설_위경도.xlsx',sheet_name = 1)"
   ]
  },
  {
   "cell_type": "code",
   "execution_count": 11,
   "metadata": {},
   "outputs": [],
   "source": [
    "df_enter['Coordinates']=list(zip(df_enter['Latitude'],df_enter['Longitude']))"
   ]
  },
  {
   "cell_type": "code",
   "execution_count": 12,
   "metadata": {},
   "outputs": [
    {
     "name": "stdout",
     "output_type": "stream",
     "text": [
      "두정동 폐공사장 주변 2km 오락시설 :  14\n"
     ]
    }
   ],
   "source": [
    "# 기준점 : 두정동 폐공사장\n",
    "reference_point = (36.8319614041446,127.13853973003)\n",
    "# 기준점과 각 주소 간의 거리 확인\n",
    "df_enter['Within 2km'] = df_enter['Coordinates'].apply(\n",
    "    lambda coord: \"Yes\" if is_within_2km(reference_point, coord) else \"No\")\n",
    "print('두정동 폐공사장 주변 2km 오락시설 : ', df_enter[df_enter['Within 2km']=='Yes']['사업장명'].nunique())"
   ]
  },
  {
   "cell_type": "code",
   "execution_count": 14,
   "metadata": {},
   "outputs": [
    {
     "name": "stdout",
     "output_type": "stream",
     "text": [
      "충무로 폐공장 주변 2km 오락시설 :  11\n"
     ]
    }
   ],
   "source": [
    "# 기준점 : 충무로 폐공장\n",
    "reference_point = (36.7963713271599,127.129356133734)\n",
    "# 기준점과 각 주소 간의 거리 확인\n",
    "df_enter['Within 2km'] = df_enter['Coordinates'].apply(\n",
    "    lambda coord: \"Yes\" if is_within_2km(reference_point, coord) else \"No\")\n",
    "print('충무로 폐공장 주변 2km 오락시설 : ', df_enter[df_enter['Within 2km']=='Yes']['사업장명'].nunique())"
   ]
  },
  {
   "cell_type": "code",
   "execution_count": 16,
   "metadata": {},
   "outputs": [
    {
     "name": "stdout",
     "output_type": "stream",
     "text": [
      "삼룡동 폐건물 주변 2km 관광지 :  5\n"
     ]
    }
   ],
   "source": [
    "# 기준점 : 삼룡동 폐건물\n",
    "reference_point = (36.7901104846421,127.164385340393)\n",
    "# 기준점과 각 주소 간의 거리 확인\n",
    "df_enter['Within 2km'] = df_enter['Coordinates'].apply(\n",
    "    lambda coord: \"Yes\" if is_within_2km(reference_point, coord) else \"No\")\n",
    "print('삼룡동 폐건물 주변 2km 관광지 : ', df_enter[df_enter['Within 2km']=='Yes']['사업장명'].nunique())"
   ]
  },
  {
   "cell_type": "markdown",
   "metadata": {},
   "source": [
    "### 3.숙박시설"
   ]
  },
  {
   "cell_type": "code",
   "execution_count": 17,
   "metadata": {},
   "outputs": [],
   "source": [
    "# 오락서비스 불러오기\n",
    "df_acc = pd.read_excel('입지선정데이터\\충청남도 숙박 서비스_위경도.xlsx',sheet_name = 1)"
   ]
  },
  {
   "cell_type": "code",
   "execution_count": 18,
   "metadata": {},
   "outputs": [],
   "source": [
    "df_acc['Coordinates']=list(zip(df_acc['Latitude'],df_acc['Longitude']))"
   ]
  },
  {
   "cell_type": "code",
   "execution_count": 19,
   "metadata": {},
   "outputs": [
    {
     "name": "stdout",
     "output_type": "stream",
     "text": [
      "두정동 폐공사장 주변 2km 숙박시설 :  49\n"
     ]
    }
   ],
   "source": [
    "# 기준점 : 두정동 폐공사장\n",
    "reference_point = (36.8319614041446,127.13853973003)\n",
    "# 기준점과 각 주소 간의 거리 확인\n",
    "df_acc['Within 2km'] = df_acc['Coordinates'].apply(\n",
    "    lambda coord: \"Yes\" if is_within_2km(reference_point, coord) else \"No\")\n",
    "print('두정동 폐공사장 주변 2km 숙박시설 : ', df_acc[df_acc['Within 2km']=='Yes']['사업장명'].nunique())"
   ]
  },
  {
   "cell_type": "code",
   "execution_count": 20,
   "metadata": {},
   "outputs": [
    {
     "name": "stdout",
     "output_type": "stream",
     "text": [
      "충무로 폐공장 주변 2km 숙박시설 :  62\n"
     ]
    }
   ],
   "source": [
    "# 기준점 충무로 폐공장\n",
    "reference_point = (36.7963713271599,127.129356133734)\n",
    "# 기준점과 각 주소 간의 거리 확인\n",
    "df_acc['Within 2km'] = df_acc['Coordinates'].apply(\n",
    "    lambda coord: \"Yes\" if is_within_2km(reference_point, coord) else \"No\")\n",
    "print('충무로 폐공장 주변 2km 숙박시설 : ', df_acc[df_acc['Within 2km']=='Yes']['사업장명'].nunique())"
   ]
  },
  {
   "cell_type": "code",
   "execution_count": 21,
   "metadata": {},
   "outputs": [
    {
     "name": "stdout",
     "output_type": "stream",
     "text": [
      "삼룡동 폐건물 주변 2km 숙박시설 :  27\n"
     ]
    }
   ],
   "source": [
    "# 기준점 삼룡동 폐건물\n",
    "reference_point = (36.7901104846421,127.164385340393)\n",
    "# 기준점과 각 주소 간의 거리 확인\n",
    "df_acc['Within 2km'] = df_acc['Coordinates'].apply(\n",
    "    lambda coord: \"Yes\" if is_within_2km(reference_point, coord) else \"No\")\n",
    "print('삼룡동 폐건물 주변 2km 숙박시설 : ', df_acc[df_acc['Within 2km']=='Yes']['사업장명'].nunique())"
   ]
  },
  {
   "cell_type": "markdown",
   "metadata": {},
   "source": [
    "### 4. 편의시설\n",
    "- 두정동 폐공사장 : 성정동, 신부동,두정동, 부대동, 성성동, 백석동, 봉명동\n",
    "- 충무로 폐공장 : 쌍용동, 봉명동, 성정동, 다가동, 일봉동, 청수동, 용곡동, 신방동\n",
    "- 삼룡동 폐건물 : 삼룡동, 청룡동, 일봉동, 구성동, 원성동"
   ]
  },
  {
   "cell_type": "code",
   "execution_count": 22,
   "metadata": {},
   "outputs": [],
   "source": [
    "# 편의 불러오기\n",
    "df_conv_성정동 = pd.read_excel('충청남도 편의시설_위경도_동구분.xlsx',sheet_name = '성정동')\n",
    "df_conv_신부동 = pd.read_excel('충청남도 편의시설_위경도_동구분.xlsx',sheet_name = '신부동')\n",
    "df_conv_두정동 = pd.read_excel('충청남도 편의시설_위경도_동구분.xlsx',sheet_name = '두정동')\n",
    "df_conv_부대동 = pd.read_excel('충청남도 편의시설_위경도_동구분.xlsx',sheet_name = '부대동')\n",
    "df_conv_성성동 = pd.read_excel('충청남도 편의시설_위경도_동구분.xlsx',sheet_name = '성성동')\n",
    "df_conv_백석동 = pd.read_excel('충청남도 편의시설_위경도_동구분.xlsx',sheet_name = '백석동')\n",
    "df_conv_쌍용동 = pd.read_excel('충청남도 편의시설_위경도_동구분.xlsx',sheet_name = '쌍용동')\n",
    "df_conv_봉명동 = pd.read_excel('충청남도 편의시설_위경도_동구분.xlsx',sheet_name = '봉명동')\n",
    "df_conv_청수동 = pd.read_excel('충청남도 편의시설_위경도_동구분.xlsx',sheet_name = '청수동')\n",
    "df_conv_용곡동 = pd.read_excel('충청남도 편의시설_위경도_동구분.xlsx',sheet_name = '용곡동')\n",
    "df_conv_신방동 = pd.read_excel('충청남도 편의시설_위경도_동구분.xlsx',sheet_name = '신방동')\n",
    "df_conv_삼룡동 = pd.read_excel('충청남도 편의시설_위경도_동구분.xlsx',sheet_name = '삼룡동')\n",
    "df_conv_원성동 = pd.read_excel('충청남도 편의시설_위경도_동구분.xlsx',sheet_name = '원성동')\n",
    "df_conv_구성동 = pd.read_excel('충청남도 편의시설_위경도_동구분.xlsx',sheet_name = '구성동')\n",
    "df_conv_다가동 = pd.read_excel('충청남도 편의시설_위경도_동구분.xlsx',sheet_name = '다가동')\n"
   ]
  },
  {
   "cell_type": "code",
   "execution_count": 23,
   "metadata": {},
   "outputs": [
    {
     "name": "stdout",
     "output_type": "stream",
     "text": [
      "<class 'pandas.core.frame.DataFrame'>\n",
      "Index: 192 entries, 0 to 13\n",
      "Data columns (total 11 columns):\n",
      " #   Column       Non-Null Count  Dtype  \n",
      "---  ------       --------------  -----  \n",
      " 0   상세영업상태명      192 non-null    object \n",
      " 1   시            192 non-null    object \n",
      " 2   구            192 non-null    object \n",
      " 3   동            192 non-null    object \n",
      " 4   소재지전체주소      192 non-null    object \n",
      " 5   도로명전체주소      192 non-null    object \n",
      " 6   Latitude     192 non-null    float64\n",
      " 7   Longitude    192 non-null    float64\n",
      " 8   도로명우편번호      191 non-null    float64\n",
      " 9   사업장명         192 non-null    object \n",
      " 10  Coordinates  192 non-null    object \n",
      "dtypes: float64(3), object(8)\n",
      "memory usage: 18.0+ KB\n"
     ]
    }
   ],
   "source": [
    "# 두정동 폐공사장 : 성정동, 신부동,두정동, 부대동, 성성동, 백석동, 봉명동\n",
    "df_conv_두정동폐가 = pd.concat([df_conv_성정동,df_conv_신부동,df_conv_두정동,df_conv_부대동,df_conv_성성동,df_conv_백석동,df_conv_봉명동])\n",
    "df_conv_두정동폐가['동'].unique()\n",
    "df_conv_두정동폐가['Coordinates']=list(zip(df_conv_두정동폐가['Latitude'],df_conv_두정동폐가['Longitude']))\n",
    "df_conv_두정동폐가.info()"
   ]
  },
  {
   "cell_type": "code",
   "execution_count": 24,
   "metadata": {},
   "outputs": [
    {
     "name": "stdout",
     "output_type": "stream",
     "text": [
      "두정동 폐공사장 주변 2km 편의시설 :  150\n"
     ]
    }
   ],
   "source": [
    "# 기준점 : 두정동 폐공사장\n",
    "reference_point = (36.8319609295754,127.138946422622)\n",
    "# 기준점과 각 주소 간의 거리 확인\n",
    "df_conv_두정동폐가['Within 2km'] = df_conv_두정동폐가['Coordinates'].apply(\n",
    "    lambda coord: \"Yes\" if is_within_2km(reference_point, coord) else \"No\")\n",
    "print('두정동 폐공사장 주변 2km 편의시설 : ', df_conv_두정동폐가[df_conv_두정동폐가['Within 2km']=='Yes']['사업장명'].nunique())"
   ]
  },
  {
   "cell_type": "code",
   "execution_count": 25,
   "metadata": {},
   "outputs": [],
   "source": [
    "# 충무로 폐공장 : 쌍용동, 봉명동, 성정동, 다가동, 청수동, 용곡동, 신방동,(일봉동은 데이터 없음)\n",
    "df_conv_충무로폐가 = pd.concat([df_conv_쌍용동,df_conv_봉명동,df_conv_성정동,df_conv_다가동,df_conv_청수동,df_conv_용곡동,df_conv_신방동])\n",
    "df_conv_충무로폐가['동'].unique()\n",
    "df_conv_충무로폐가['Coordinates']=list(zip(df_conv_충무로폐가['Latitude'],df_conv_충무로폐가['Longitude']))"
   ]
  },
  {
   "cell_type": "code",
   "execution_count": 26,
   "metadata": {},
   "outputs": [
    {
     "name": "stdout",
     "output_type": "stream",
     "text": [
      "충무로 폐공장 주변 2km 편의시설 :  64\n"
     ]
    }
   ],
   "source": [
    "# 기준점 충무로 폐공장\n",
    "reference_point = (36.7963713271599,127.129356133734)\n",
    "# 기준점과 각 주소 간의 거리 확인\n",
    "df_conv_충무로폐가['Within 2km'] = df_conv_충무로폐가['Coordinates'].apply(\n",
    "    lambda coord: \"Yes\" if is_within_2km(reference_point, coord) else \"No\")\n",
    "print('충무로 폐공장 주변 2km 편의시설 : ', df_conv_충무로폐가[df_conv_충무로폐가['Within 2km']=='Yes']['사업장명'].nunique())"
   ]
  },
  {
   "cell_type": "code",
   "execution_count": 27,
   "metadata": {},
   "outputs": [],
   "source": [
    "# 삼룡동 폐건물 : 삼룡동, 청룡동(데이터없음), 일봉동(일봉동은 데이터 없음), 구성동, 원성동\n",
    "df_conv_삼룡동폐가 = pd.concat([df_conv_삼룡동,df_conv_구성동,df_conv_원성동])\n",
    "df_conv_삼룡동폐가['동'].unique()\n",
    "df_conv_삼룡동폐가['Coordinates']=list(zip(df_conv_삼룡동폐가['Latitude'],df_conv_삼룡동폐가['Longitude']))"
   ]
  },
  {
   "cell_type": "code",
   "execution_count": 28,
   "metadata": {},
   "outputs": [
    {
     "name": "stdout",
     "output_type": "stream",
     "text": [
      "삼룡동 폐건물 주변 2km 편의시설 :  14\n"
     ]
    }
   ],
   "source": [
    "# 기준점 삼룡동 폐건물\n",
    "reference_point = (36.7901104846421,127.164385340393)\n",
    "# 기준점과 각 주소 간의 거리 확인\n",
    "df_conv_삼룡동폐가['Within 2km'] = df_conv_삼룡동폐가['Coordinates'].apply(\n",
    "    lambda coord: \"Yes\" if is_within_2km(reference_point, coord) else \"No\")\n",
    "print('삼룡동 폐건물 주변 2km 편의시설 : ',df_conv_삼룡동폐가[df_conv_삼룡동폐가['Within 2km']=='Yes']['사업장명'].nunique())"
   ]
  },
  {
   "cell_type": "markdown",
   "metadata": {},
   "source": [
    "# 5. 공원,산"
   ]
  },
  {
   "cell_type": "code",
   "execution_count": 29,
   "metadata": {},
   "outputs": [],
   "source": [
    "# 공원, 산 불러오기\n",
    "p = pd.read_csv('입지선정데이터\\충청남도_천안시_도시공원정보_위경도.csv', encoding='cp949')\n",
    "m = pd.read_csv('입지선정데이터\\천안시_산위치.csv')"
   ]
  },
  {
   "cell_type": "code",
   "execution_count": 37,
   "metadata": {},
   "outputs": [],
   "source": [
    "p_df =p[['공원명','위도','경도']].rename(columns={'공원명':'name','위도':'lat','경도':'long'})\n",
    "m_df = m[['name','lat','long']]\n",
    "pm_df=pd.concat([p_df,m_df],axis=0)\n",
    "pm_df['Coordinates']=list(zip(pm_df['lat'],pm_df['long']))"
   ]
  },
  {
   "cell_type": "code",
   "execution_count": 38,
   "metadata": {},
   "outputs": [
    {
     "name": "stdout",
     "output_type": "stream",
     "text": [
      "두정동 폐공사장 주변 2km 공원,산 :  53\n"
     ]
    }
   ],
   "source": [
    "# 기준점 : 두정동 폐공사장\n",
    "reference_point = (36.8319614041446,127.13853973003)\n",
    "# 기준점과 각 주소 간의 거리 확인\n",
    "pm_df['Within 2km'] = pm_df['Coordinates'].apply(\n",
    "    lambda coord: \"Yes\" if is_within_2km(reference_point, coord) else \"No\")\n",
    "print('두정동 폐공사장 주변 2km 공원,산 : ', pm_df[pm_df['Within 2km']=='Yes']['name'].nunique())"
   ]
  },
  {
   "cell_type": "code",
   "execution_count": 39,
   "metadata": {},
   "outputs": [
    {
     "name": "stdout",
     "output_type": "stream",
     "text": [
      "충무로 폐공장 주변 2km 공원,산 :  49\n"
     ]
    }
   ],
   "source": [
    "# 기준점 충무로 폐공장\n",
    "reference_point = (36.7963713271599,127.129356133734)\n",
    "# 기준점과 각 주소 간의 거리 확인\n",
    "pm_df['Within 2km'] = pm_df['Coordinates'].apply(\n",
    "    lambda coord: \"Yes\" if is_within_2km(reference_point, coord) else \"No\")\n",
    "print('충무로 폐공장 주변 2km 공원,산 : ', pm_df[pm_df['Within 2km']=='Yes']['name'].nunique())"
   ]
  },
  {
   "cell_type": "code",
   "execution_count": 40,
   "metadata": {},
   "outputs": [
    {
     "name": "stdout",
     "output_type": "stream",
     "text": [
      "삼룡동 폐건물 주변 2km 숙박시설 :  22\n"
     ]
    }
   ],
   "source": [
    "# 기준점 삼룡동 폐건물\n",
    "reference_point = (36.7901104846421,127.164385340393)\n",
    "# 기준점과 각 주소 간의 거리 확인\n",
    "pm_df['Within 2km'] = pm_df['Coordinates'].apply(\n",
    "    lambda coord: \"Yes\" if is_within_2km(reference_point, coord) else \"No\")\n",
    "print('삼룡동 폐건물 주변 2km 숙박시설 : ', pm_df[pm_df['Within 2km']=='Yes']['name'].nunique())"
   ]
  }
 ],
 "metadata": {
  "kernelspec": {
   "display_name": "Python 3",
   "language": "python",
   "name": "python3"
  },
  "language_info": {
   "codemirror_mode": {
    "name": "ipython",
    "version": 3
   },
   "file_extension": ".py",
   "mimetype": "text/x-python",
   "name": "python",
   "nbconvert_exporter": "python",
   "pygments_lexer": "ipython3",
   "version": "3.9.10"
  }
 },
 "nbformat": 4,
 "nbformat_minor": 2
}
